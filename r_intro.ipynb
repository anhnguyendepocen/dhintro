{
 "cells": [
  {
   "cell_type": "code",
   "execution_count": 12,
   "metadata": {
    "collapsed": false
   },
   "outputs": [
    {
     "name": "stdout",
     "output_type": "stream",
     "text": [
      "[1] \"Hello\"\n",
      "[1] \"programming\"\n"
     ]
    }
   ],
   "source": [
    "print(\"Hello\")\n",
    "print(\"programming\")"
   ]
  },
  {
   "cell_type": "markdown",
   "metadata": {},
   "source": [
    "## Variables"
   ]
  },
  {
   "cell_type": "code",
   "execution_count": 72,
   "metadata": {
    "collapsed": false
   },
   "outputs": [
    {
     "name": "stdout",
     "output_type": "stream",
     "text": [
      "[1] \"Hello Eetu.\"\n",
      "[1] \"Welcome to programming Eetu.\"\n"
     ]
    }
   ],
   "source": [
    "name <- \"Eetu\"\n",
    "# You can use =, but <- is more idiomatic R\n",
    "print(paste(\"Hello \", name, \".\",sep=\"\"))\n",
    "print(paste(\"Welcome to programming \",name,\".\",sep=\"\"))\n"
   ]
  },
  {
   "cell_type": "markdown",
   "metadata": {},
   "source": [
    "## Operators"
   ]
  },
  {
   "cell_type": "code",
   "execution_count": 60,
   "metadata": {
    "collapsed": false
   },
   "outputs": [
    {
     "name": "stdout",
     "output_type": "stream",
     "text": [
      "[1] 6\n",
      "[1] 3.5\n",
      "[1] 3\n"
     ]
    }
   ],
   "source": [
    "print( 1+5 )\n",
    "print( 1+5/2 )\n",
    "print( (1+5)/2 )"
   ]
  },
  {
   "cell_type": "code",
   "execution_count": 62,
   "metadata": {
    "collapsed": false
   },
   "outputs": [
    {
     "name": "stdout",
     "output_type": "stream",
     "text": [
      "[1] TRUE\n",
      "[1] FALSE\n",
      "[1] TRUE\n",
      "[1] FALSE\n"
     ]
    }
   ],
   "source": [
    "print(1<5)\n",
    "print(1>5)\n",
    "print(\"a\"<\"b\")\n",
    "print(\"ab\"<\"aa\")"
   ]
  },
  {
   "cell_type": "markdown",
   "metadata": {},
   "source": [
    "## Control flow"
   ]
  },
  {
   "cell_type": "code",
   "execution_count": 29,
   "metadata": {
    "collapsed": false
   },
   "outputs": [
    {
     "name": "stdout",
     "output_type": "stream",
     "text": [
      "[1] \"Hello Eetu\"\n"
     ]
    }
   ],
   "source": [
    "if (name==\"John\") {\n",
    "    print(\"Hello Johnny\")\n",
    "} else if (name==\"Bruce Wayne\") {\n",
    "    print(\"Hello Batman\")\n",
    "} else\n",
    "    print(paste(\"Hello \",name,sep=\"\"))"
   ]
  },
  {
   "cell_type": "code",
   "execution_count": 73,
   "metadata": {
    "collapsed": false
   },
   "outputs": [
    {
     "name": "stdout",
     "output_type": "stream",
     "text": [
      "[1] \"while: 1\"\n",
      "[1] \"while: 2\"\n",
      "[1] \"while: 3\"\n",
      "[1] \"for: 1\"\n",
      "[1] \"for: 2\"\n",
      "[1] \"for: 3\"\n"
     ]
    }
   ],
   "source": [
    "i <- 1\n",
    "while (i < 4) {\n",
    "    print(paste(\"while: \",i,sep=\"\"))\n",
    "    i <- i+1\n",
    "}\n",
    "\n",
    "for (i in 1:3) \n",
    "    print(paste(\"for: \",i,sep=\"\"))"
   ]
  },
  {
   "cell_type": "markdown",
   "metadata": {},
   "source": [
    "## Variable types"
   ]
  },
  {
   "cell_type": "code",
   "execution_count": 65,
   "metadata": {
    "collapsed": false
   },
   "outputs": [
    {
     "name": "stdout",
     "output_type": "stream",
     "text": [
      "[1] 20\n"
     ]
    },
    {
     "ename": "ERROR",
     "evalue": "Error in \"10\" + 10: non-numeric argument to binary operator\n",
     "output_type": "error",
     "traceback": [
      "Error in \"10\" + 10: non-numeric argument to binary operator\n"
     ]
    }
   ],
   "source": [
    "print(10+10)\n",
    "print(\"10\"+10)"
   ]
  },
  {
   "cell_type": "code",
   "execution_count": 74,
   "metadata": {
    "collapsed": false
   },
   "outputs": [
    {
     "name": "stdout",
     "output_type": "stream",
     "text": [
      "[1] \"Type of i: double\"\n",
      "[1] \"Type of j: character\"\n",
      "[1] \"Is i equal to j?: TRUE\"\n",
      "[1] \"Is as.character(i) equal to j?: TRUE\"\n",
      "[1] \"Is i equal to as.numeric(j)?: TRUE\"\n"
     ]
    }
   ],
   "source": [
    "i <- 1\n",
    "print(paste(\"Type of i: \",typeof(i),sep=\"\"))\n",
    "j <- '1'\n",
    "print(paste(\"Type of j: \",typeof(j),sep=\"\"))\n",
    "print(paste(\"Is i equal to j?: \",i==j,sep=\"\"))\n",
    "print(paste(\"Is as.character(i) equal to j?: \",as.character(i)==j,sep=\"\"))\n",
    "print(paste(\"Is i equal to as.numeric(j)?: \",i==as.numeric(j),sep=\"\"))"
   ]
  },
  {
   "cell_type": "markdown",
   "metadata": {},
   "source": [
    "Here one has to note an important difference between R and python. In general, R does more automatic conversions between formats than Python, so in the above, the number 1 *is* actually equal to the string \"1\" even without explicit conversion!"
   ]
  },
  {
   "cell_type": "code",
   "execution_count": 59,
   "metadata": {
    "collapsed": false
   },
   "outputs": [
    {
     "data": {
      "text/html": [
       "11"
      ],
      "text/latex": [
       "11"
      ],
      "text/markdown": [
       "11"
      ],
      "text/plain": [
       "[1] 11"
      ]
     },
     "execution_count": 59,
     "metadata": {},
     "output_type": "execute_result"
    },
    {
     "name": "stderr",
     "output_type": "stream",
     "text": [
      "Warning message:\n",
      "In eval(expr, envir, enclos): NAs introduced by coercion"
     ]
    },
    {
     "data": {
      "text/plain": [
       "[1] NA"
      ]
     },
     "execution_count": 59,
     "metadata": {},
     "output_type": "execute_result"
    }
   ],
   "source": [
    "as.numeric(\"11\")\n",
    "as.numeric(\"eleven\")"
   ]
  },
  {
   "cell_type": "markdown",
   "metadata": {},
   "source": [
    "Here's also an important difference. Where Python raised an error, R just issues a warning and returns NA (a special value denoting Not Available)."
   ]
  },
  {
   "cell_type": "markdown",
   "metadata": {},
   "source": [
    "## Functions/methods"
   ]
  },
  {
   "cell_type": "code",
   "execution_count": 71,
   "metadata": {
    "collapsed": false
   },
   "outputs": [
    {
     "name": "stdout",
     "output_type": "stream",
     "text": [
      "[1] \"valtavat määrät omenaa laivattiin Helsinkiin\"\n",
      "[1] \"vaivaisten hampaat ovat usein huonot\"\n"
     ]
    }
   ],
   "source": [
    "# This is a function definition that takes in a single variable named string. It returns that string after some processing.\n",
    "modernize <- function(string) {\n",
    "    return(gsub(\"ätä\\\\b\",\"ää\",gsub(\"ata\\\\b\",\"aa\",gsub(\"g\",\"k\",gsub(\"d\",\"t\",gsub(\"b\",\"p\",gsub(\"w\",\"v\",string)))))))\n",
    "}\n",
    "\n",
    "print(modernize(\"waltawat määrät omenata laivattiin Helsingiin\"))\n",
    "print(modernize(\"waiwaisten hambaat ovat usein huonot\"))"
   ]
  },
  {
   "cell_type": "markdown",
   "metadata": {},
   "source": [
    "R doesn't really believe in object methods, so doesn't have any equivalent to the replace method of Python string object. Instead, everything is just pure functions, and you need to pass the values as parameters."
   ]
  },
  {
   "cell_type": "markdown",
   "metadata": {},
   "source": [
    "## Data structures"
   ]
  },
  {
   "cell_type": "code",
   "execution_count": 105,
   "metadata": {
    "collapsed": false
   },
   "outputs": [
    {
     "name": "stdout",
     "output_type": "stream",
     "text": [
      "[1] \"valtavat määrät omenaa laivattiin Helsinkiin\"\n",
      "[1] \"vaivaisten hampaat ovat usein huonot\"\n",
      "  w \n",
      "\"v\" \n",
      "[1] \"waltawat määrät omenata laivattiin Helsingiin\"\n"
     ]
    }
   ],
   "source": [
    "# R doesn't have hash objects directly (but there is a hash package). However, pure R also does have vectors that may have named indices, so let's use that:\n",
    "replacements <- c(w = 'v',b ='p', d = 't', g = 'k', 'ätä\\\\b' = 'ää', 'ata\\\\b' = \"aa\")\n",
    "modernize2 <- function(string) {\n",
    "    # Here we're going over all the keys in the replacement dictionary and acting on them\n",
    "    for (key in names(replacements)) {\n",
    "        string <- gsub(key,replacements[key],string)\n",
    "    }\n",
    "    return(string)\n",
    "}\n",
    "\n",
    "# This is a list.\n",
    "sentences = c(\"waltawat määrät omenata laivattiin Helsingiin\", \"waiwaisten hambaat ovat usein huonot\")\n",
    "\n",
    "# Here we're calling the function once for each string in the sentences list\n",
    "for (sentence in sentences)\n",
    "    print(modernize2(sentence))\n",
    "    \n",
    "# You can also explicitly refer to a particular slot in a list or a key in a dictionary using square brackets:\n",
    "print(replacements[\"w\"])\n",
    "print(sentences[1])\n",
    "# In R, indices start at 1!"
   ]
  },
  {
   "cell_type": "code",
   "execution_count": 121,
   "metadata": {
    "collapsed": false
   },
   "outputs": [
    {
     "name": "stdout",
     "output_type": "stream",
     "text": [
      "  w \n",
      "\"v\" \n",
      "$w\n",
      "[1] \"v\" \"y\"\n",
      "\n"
     ]
    }
   ],
   "source": [
    "# Note that a dictionary can only contain one value for each key\n",
    "replacements2 <- c(w = \"v\", w = \"y\")\n",
    "print(replacements2[\"w\"])\n",
    "\n",
    "# Therefore, if you need multiple values, you have to combine dictionaries with lists:\n",
    "replacements2 <- list(w = c(\"v\",\"y\"))\n",
    "print(replacements2[\"w\"])"
   ]
  },
  {
   "cell_type": "markdown",
   "metadata": {},
   "source": [
    "As an interesting albeit mostly useless note, see how in the above R returns \"v\" in the first instance, while Python returned \"y\". \n",
    "\n",
    "More usefully, note that in the above we couldn't use just simple vectors (created by `c()`, but instead had to use actual lists created by `list()`. The technical explanation here is that simple vectors are more efficient to the computer to process, but have the limitation of having to be flat, while actual lists can be more complex but are also therefore more expensive for the computer to operate upon. "
   ]
  }
 ],
 "metadata": {
  "kernelspec": {
   "display_name": "R",
   "language": "R",
   "name": "ir"
  },
  "language_info": {
   "codemirror_mode": "r",
   "file_extension": ".r",
   "mimetype": "text/x-r-source",
   "name": "R",
   "pygments_lexer": "r",
   "version": "3.2.2"
  }
 },
 "nbformat": 4,
 "nbformat_minor": 0
}
