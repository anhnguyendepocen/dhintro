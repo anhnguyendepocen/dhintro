{
 "cells": [
  {
   "cell_type": "markdown",
   "metadata": {},
   "source": [
    "# Gathering and graphing frequencies from Korp\n",
    "\n",
    "Let's say I'm interested in frequencies of particular words in some material stored in the [Finnish Language Bank](https://kitwiki.csc.fi/twiki/bin/view/FinCLARIN/KielipankkiKoti). They have this [Korp web interface](https://korp.csc.fi/), but that doesn't cut it for my purposes. \n",
    "\n",
    "Luckily, they also have a programmatic [API](https://kitwiki.csc.fi/twiki/bin/view/FinCLARIN/KielipankkiHelpKorpWebService) (Application Program Interface), which I should be able to use to gather the data for my own purposes. \n",
    "\n",
    "By reading the documentation (and maybe some googling), I learn that the API uses the [HTTP protocol](https://en.wikipedia.org/wiki/Hypertext_Transfer_Protocol), and return results as [JSON](https://en.wikipedia.org/wiki/JSON). Now, I just need to find out how to use those in my chosen programming environment of Python. So, I query google for [HTTP JSON in Python](https://www.google.fi/search?q=HTTP+JSON+in+python), which gives me some actual code to copypaste, as well as further links if I need to know more.\n",
    "\n",
    "Now, all I need to do is to be able to format the query according to the requirements of the Korp API."
   ]
  },
  {
   "cell_type": "code",
   "execution_count": null,
   "metadata": {
    "collapsed": false,
    "scrolled": true
   },
   "outputs": [],
   "source": [
    "# In Korp, corpus is a variable containing the corpora we are querying, as identified in Korp. \n",
    "# I got this list from selecting corpora in the interface and copy pasting from the address line\n",
    "corpus = \"klk_fi_1909,klk_fi_1908,klk_fi_1907,klk_fi_1906,klk_fi_1905,klk_fi_1904,klk_fi_1903,klk_fi_1902,klk_fi_1901,klk_fi_1900,klk_fi_1899,klk_fi_1898,klk_fi_1897,klk_fi_1896,klk_fi_1895,klk_fi_1894,klk_fi_1893,klk_fi_1892,klk_fi_1891,klk_fi_1890,klk_fi_1889,klk_fi_1888,klk_fi_1887,klk_fi_1886,klk_fi_1885,klk_fi_1884,klk_fi_1883,klk_fi_1882,klk_fi_1881,klk_fi_1880,klk_fi_1879,klk_fi_1878,klk_fi_1877,klk_fi_1876,klk_fi_1875,klk_fi_1874,klk_fi_1873,klk_fi_1872,klk_fi_1871,klk_fi_1870,klk_fi_1869,klk_fi_1868,klk_fi_1867,klk_fi_1866,klk_fi_1865,klk_fi_1864,klk_fi_1863,klk_fi_1862,klk_fi_1861,klk_fi_1860,klk_fi_1859,klk_fi_1858,klk_fi_1857,klk_fi_1856,klk_fi_1855,klk_fi_1854,klk_fi_1853,klk_fi_1852,klk_fi_1851,klk_fi_1850,klk_fi_1849,klk_fi_1848,klk_fi_1847,klk_fi_1846,klk_fi_1845,klk_fi_1844,klk_fi_1842,klk_fi_1841,klk_fi_1840,klk_fi_1839,klk_fi_1838,klk_fi_1837,klk_fi_1836,klk_fi_1835,klk_fi_1834,klk_fi_1833,klk_fi_1832,klk_fi_1831,klk_fi_1830,klk_fi_1829,klk_fi_1827,klk_fi_1826,klk_fi_1825,klk_fi_1824,klk_fi_1823,klk_fi_1822,klk_fi_1821,klk_fi_1820\"\n",
    "# However, for some reason, the API requires these to be in UPPER CASE, so let's just do that.\n",
    "corpus = corpus.upper()\n",
    "\n",
    "# query is the word (actually a regular expression) we're interested in.\n",
    "# TASK 1: alter the regular expression to search for both everything beginning with vaivai as well as waiwai \n",
    "# (also test whatever else you like)\n",
    "# if you really cannot figure it out, see http://pastebin.com/TPTHJe9j for the answer.\n",
    "query = 'waiwai.*'\n",
    "\n",
    "# number of hits to return from Korp (+1)\n",
    "end = '150000'"
   ]
  },
  {
   "cell_type": "markdown",
   "metadata": {},
   "source": [
    "For regular expressions, which are immensely useful also in all kinds of text processing tasks, see [this](http://www.regular-expressions.info/reference.html) and if you further want to modify the query, see [the CPQ query language tutorial](http://cwb.sourceforge.net/files/CQP_Tutorial/node8.html).\n",
    "\n",
    "Now, the next bit, copypasted and modified from the results of the Google search, calls the API of Korp and returns results to us as a JSON object."
   ]
  },
  {
   "cell_type": "code",
   "execution_count": null,
   "metadata": {
    "collapsed": false
   },
   "outputs": [],
   "source": [
    "import requests\n",
    "\n",
    "# TASK 2: The copypasted code I got actually didn't work directly. \n",
    "# Googling the error I got, and reading the requests library documentation allowed me to add a parameter necessary to make it work.\n",
    "# But actually, sometimes a second error can also appear. Further googling allowed me to account for that also.\n",
    "# Repeat what I did. If you get hopelessly stuck, see http://pastebin.com/pvT89wdQ for the answer.\n",
    "response = requests.get(\"https://korp.csc.fi/cgi-bin/korp.cgi?cqp=%5Blemma+%3D+\\\"\"+query+\"\\\"%5D&sort=keywordcommand=query&indent=2&defaultcontext=0+words&show=lemma&start=0&end=\"+end+\"&show_struct=text_dateto,text_datefrom&corpus=\"+corpus)\n",
    "json_data = response.json()\n",
    "print(\"Hit count \"+str(json_data['hits'])+\" should be below our end (\"+str(end)+\") if we are to get all data.\")\n",
    "print(\"Actually got \"+str(len(json_data['kwic']))+\" hits.\")\n",
    "json_data"
   ]
  },
  {
   "cell_type": "markdown",
   "metadata": {},
   "source": [
    "The above gives us the data as individual occurrences, but what we really want is a way to map each lemma to the count of its occurrences by year. The following code does this by assembling a nested Python [dictionary](https://docs.python.org/2/tutorial/datastructures.html#dictionaries). You'd do well to learn these basic flow control and data structures of the language of your choice, because they are then the glue that allows you to hook together the libraries that do the actual work."
   ]
  },
  {
   "cell_type": "code",
   "execution_count": null,
   "metadata": {
    "collapsed": false
   },
   "outputs": [],
   "source": [
    "lemmaYearCountDict = dict()\n",
    "for match in json_data['kwic']:\n",
    "    lemma = match['tokens'][0]['lemma']\n",
    "    year = match['structs']['text_datefrom'][:4]\n",
    "    if not lemma in lemmaYearCountDict:\n",
    "        lemmaYearCountDict[lemma]=dict()\n",
    "    if not year in lemmaYearCountDict[lemma]:\n",
    "        lemmaYearCountDict[lemma][year]=1\n",
    "    else:\n",
    "        lemmaYearCountDict[lemma][year]+=1\n",
    "lemmaYearCountDict\n"
   ]
  },
  {
   "cell_type": "markdown",
   "metadata": {},
   "source": [
    "Now, using dictionaries, I have the data in the structure I want. Time to move into processing it further and eventually visualizing it. \n",
    "\n",
    "Googling [Python data analysis](https://www.google.fi/search?q=python+data+analysis), I'm directed to [Pandas](http://pandas.pydata.org/), a well known and highly regarded library for doing just that. Reading its documentation however, I come to understand that I have to immediately transform my nice simple dict into its [DataFrame](http://pandas.pydata.org/pandas-docs/stable/dsintro.html#dataframe). Luckily, some additional googling and documentation reading again gives me also the actual code I need."
   ]
  },
  {
   "cell_type": "code",
   "execution_count": null,
   "metadata": {
    "collapsed": false
   },
   "outputs": [],
   "source": [
    "import pandas as pd\n",
    "import numpy as np\n",
    "\n",
    "# TASK 3: the code to turn a dict to a frame is really really simple, but what is it? Fix the next line.\n",
    "# you really shouldn't get stuck here, but if you do, there's http://pastebin.com/dmfpxdgg\n",
    "lemmaFrame = ?(lemmaYearCountDict)\n",
    "# By default empty values in a dataframe are left as NaNs (Not a Number), but that gave me problems in later calculations. So, after some further documentation reading I added the .replace(np.nan,0) transformation\n",
    "# the .T at the end transposes the data frame so that the resulting table has words as rows and dates as columns instead of the other way round\n",
    "lemmaFrame = lemmaFrame.replace(np.nan,0).T\n",
    "print('Frame dimensions: '+str(lemmaFrame.columns.size)+\"x\"+str(lemmaFrame.index.size))\n",
    "lemmaFrame.head()\n"
   ]
  },
  {
   "cell_type": "markdown",
   "metadata": {},
   "source": [
    "Now, we can start plotting!\n",
    "\n",
    "For example, we can plot instances of all matched words by year"
   ]
  },
  {
   "cell_type": "code",
   "execution_count": 43,
   "metadata": {
    "collapsed": false
   },
   "outputs": [
    {
     "data": {
      "text/plain": [
       "<matplotlib.axes.AxesSubplot at 0x7ff6234df6d8>"
      ]
     },
     "execution_count": 43,
     "metadata": {},
     "output_type": "execute_result"
    },
    {
     "data": {
      "image/png": "[encoded data removed]",
      "text/plain": [
       "<matplotlib.figure.Figure at 0x7ff605a99a58>"
      ]
     },
     "metadata": {},
     "output_type": "display_data"
    }
   ],
   "source": [
    "import matplotlib.pyplot as plt\n",
    "%matplotlib inline\n",
    "\n",
    "lemmaFrame.sum().plot()"
   ]
  },
  {
   "cell_type": "markdown",
   "metadata": {},
   "source": [
    "But, what I really wanted to do is graph frequencies for individual words. This however is problematic, as as you may already know, the KLK data in Korp has horrible OCR problems (Looking at the data frame dimensions, there are tens of thousands of different word forms, which is certainly far too much). To counter those, let's write the data out to a CSV file and load it in another tool ([OpenRefine](http://openrefine.org/)) for some interactive cleanup."
   ]
  },
  {
   "cell_type": "code",
   "execution_count": null,
   "metadata": {
    "collapsed": false
   },
   "outputs": [],
   "source": [
    "lemmaFrame.to_csv(\"waiwa.csv\")\n",
    "print(\"Wrote waiwa.csv\")"
   ]
  },
  {
   "cell_type": "markdown",
   "metadata": {},
   "source": [
    "Now view and download [waiwa.csv](../edit/waiwa.csv), and move on to processing it using [OpenRefine](/refine/). Follow the [separate tutorial](https://docs.google.com/document/d/1m6EEbPCSnjg6F1VPBj4sa8NNnMWPGduXqirGwXirDxI/edit?usp=sharing) on what to do there.\n",
    "\n",
    "After processing, we need to reload the data from the one exported by OpenRefine. [Upload it](../tree) as waiwa2.csv in order to run the following code (you'll have to wait a bit for the file to upload depending on the speed of your network connection. The UI unfortunately doesn't give any indication of this)."
   ]
  },
  {
   "cell_type": "code",
   "execution_count": null,
   "metadata": {
    "collapsed": false,
    "scrolled": true
   },
   "outputs": [],
   "source": [
    "lemmaFrame2 = pd.read_csv('waiwa2.csv')\n",
    "print('Frame dimensions: '+str(lemmaFrame2.columns.size)+\"x\"+str(lemmaFrame2.index.size))\n",
    "lemmaFrame2.head()"
   ]
  },
  {
   "cell_type": "markdown",
   "metadata": {},
   "source": [
    "Hmm, the frame is still the same length as before. That is because while OpenRefine unified naming conventions, it did not actually join any rows. Let's do that next."
   ]
  },
  {
   "cell_type": "code",
   "execution_count": null,
   "metadata": {
    "collapsed": false
   },
   "outputs": [],
   "source": [
    "lemmaFrame3 = lemmaFrame2.groupby('Column').aggregate(np.sum)\n",
    "print('Frame dimensions: '+str(lemmaFrame3.columns.size)+\"x\"+str(lemmaFrame3.index.size)+\" (vs \"+str(lemmaFrame2.columns.size)+\"x\"+str(lemmaFrame2.index.size)+\")\")"
   ]
  },
  {
   "cell_type": "markdown",
   "metadata": {},
   "source": [
    "Now that's more like it. Finally, to get individual word level graphs, lets limit the words to those occurring most in the total corpus. "
   ]
  },
  {
   "cell_type": "code",
   "execution_count": 39,
   "metadata": {
    "collapsed": false,
    "scrolled": false
   },
   "outputs": [
    {
     "data": {
      "text/html": [
       "<div style=\"max-height:1000px;max-width:1500px;overflow:auto;\">\n",
       "<table border=\"1\" class=\"dataframe\">\n",
       "  <thead>\n",
       "    <tr style=\"text-align: right;\">\n",
       "      <th></th>\n",
       "      <th>Column2</th>\n",
       "      <th>1822</th>\n",
       "      <th>1823</th>\n",
       "      <th>1824</th>\n",
       "      <th>1826</th>\n",
       "      <th>1829</th>\n",
       "      <th>1830</th>\n",
       "      <th>1831</th>\n",
       "      <th>1832</th>\n",
       "      <th>1833</th>\n",
       "      <th>1834</th>\n",
       "      <th>1835</th>\n",
       "      <th>1836</th>\n",
       "      <th>1837</th>\n",
       "      <th>1839</th>\n",
       "      <th>1840</th>\n",
       "      <th>1841</th>\n",
       "      <th>1844</th>\n",
       "      <th>1845</th>\n",
       "      <th>1846</th>\n",
       "      <th></th>\n",
       "    </tr>\n",
       "    <tr>\n",
       "      <th>Column</th>\n",
       "      <th></th>\n",
       "      <th></th>\n",
       "      <th></th>\n",
       "      <th></th>\n",
       "      <th></th>\n",
       "      <th></th>\n",
       "      <th></th>\n",
       "      <th></th>\n",
       "      <th></th>\n",
       "      <th></th>\n",
       "      <th></th>\n",
       "      <th></th>\n",
       "      <th></th>\n",
       "      <th></th>\n",
       "      <th></th>\n",
       "      <th></th>\n",
       "      <th></th>\n",
       "      <th></th>\n",
       "      <th></th>\n",
       "      <th></th>\n",
       "    </tr>\n",
       "  </thead>\n",
       "  <tbody>\n",
       "    <tr>\n",
       "      <th>vaivaistalo</th>\n",
       "      <td> 15</td>\n",
       "      <td> 0</td>\n",
       "      <td> 0</td>\n",
       "      <td> 0</td>\n",
       "      <td> 0</td>\n",
       "      <td> 0</td>\n",
       "      <td> 0</td>\n",
       "      <td> 0</td>\n",
       "      <td> 0</td>\n",
       "      <td> 0</td>\n",
       "      <td> 0</td>\n",
       "      <td> 0</td>\n",
       "      <td> 0</td>\n",
       "      <td> 0</td>\n",
       "      <td> 0</td>\n",
       "      <td> 0</td>\n",
       "      <td> 0</td>\n",
       "      <td> 0</td>\n",
       "      <td> 0</td>\n",
       "      <td> 0</td>\n",
       "      <td>...</td>\n",
       "    </tr>\n",
       "    <tr>\n",
       "      <th>vaivainenaitta</th>\n",
       "      <td>  8</td>\n",
       "      <td> 0</td>\n",
       "      <td> 0</td>\n",
       "      <td> 0</td>\n",
       "      <td> 0</td>\n",
       "      <td> 0</td>\n",
       "      <td> 0</td>\n",
       "      <td> 0</td>\n",
       "      <td> 0</td>\n",
       "      <td> 0</td>\n",
       "      <td> 0</td>\n",
       "      <td> 0</td>\n",
       "      <td> 0</td>\n",
       "      <td> 0</td>\n",
       "      <td> 0</td>\n",
       "      <td> 0</td>\n",
       "      <td> 0</td>\n",
       "      <td> 0</td>\n",
       "      <td> 0</td>\n",
       "      <td> 0</td>\n",
       "      <td>...</td>\n",
       "    </tr>\n",
       "    <tr>\n",
       "      <th>vaivais</th>\n",
       "      <td>  2</td>\n",
       "      <td> 1</td>\n",
       "      <td> 0</td>\n",
       "      <td> 0</td>\n",
       "      <td> 0</td>\n",
       "      <td> 0</td>\n",
       "      <td> 0</td>\n",
       "      <td> 0</td>\n",
       "      <td> 0</td>\n",
       "      <td> 0</td>\n",
       "      <td> 0</td>\n",
       "      <td> 0</td>\n",
       "      <td> 1</td>\n",
       "      <td> 1</td>\n",
       "      <td> 0</td>\n",
       "      <td> 0</td>\n",
       "      <td> 0</td>\n",
       "      <td> 1</td>\n",
       "      <td> 0</td>\n",
       "      <td> 0</td>\n",
       "      <td>...</td>\n",
       "    </tr>\n",
       "    <tr>\n",
       "      <th>vaivaishoidon</th>\n",
       "      <td>  8</td>\n",
       "      <td> 0</td>\n",
       "      <td> 0</td>\n",
       "      <td> 0</td>\n",
       "      <td> 0</td>\n",
       "      <td> 0</td>\n",
       "      <td> 0</td>\n",
       "      <td> 0</td>\n",
       "      <td> 0</td>\n",
       "      <td> 0</td>\n",
       "      <td> 0</td>\n",
       "      <td> 0</td>\n",
       "      <td> 1</td>\n",
       "      <td> 0</td>\n",
       "      <td> 0</td>\n",
       "      <td> 0</td>\n",
       "      <td> 0</td>\n",
       "      <td> 0</td>\n",
       "      <td> 0</td>\n",
       "      <td> 0</td>\n",
       "      <td>...</td>\n",
       "    </tr>\n",
       "    <tr>\n",
       "      <th>vaivaistalon</th>\n",
       "      <td>  1</td>\n",
       "      <td> 0</td>\n",
       "      <td> 0</td>\n",
       "      <td> 0</td>\n",
       "      <td> 0</td>\n",
       "      <td> 0</td>\n",
       "      <td> 0</td>\n",
       "      <td> 0</td>\n",
       "      <td> 0</td>\n",
       "      <td> 0</td>\n",
       "      <td> 0</td>\n",
       "      <td> 0</td>\n",
       "      <td> 0</td>\n",
       "      <td> 0</td>\n",
       "      <td> 0</td>\n",
       "      <td> 0</td>\n",
       "      <td> 0</td>\n",
       "      <td> 0</td>\n",
       "      <td> 0</td>\n",
       "      <td> 0</td>\n",
       "      <td>...</td>\n",
       "    </tr>\n",
       "    <tr>\n",
       "      <th>vaivaishoitohallitutsen</th>\n",
       "      <td>  8</td>\n",
       "      <td> 0</td>\n",
       "      <td> 0</td>\n",
       "      <td> 0</td>\n",
       "      <td> 0</td>\n",
       "      <td> 0</td>\n",
       "      <td> 0</td>\n",
       "      <td> 0</td>\n",
       "      <td> 0</td>\n",
       "      <td> 0</td>\n",
       "      <td> 0</td>\n",
       "      <td> 0</td>\n",
       "      <td> 0</td>\n",
       "      <td> 0</td>\n",
       "      <td> 0</td>\n",
       "      <td> 0</td>\n",
       "      <td> 0</td>\n",
       "      <td> 0</td>\n",
       "      <td> 0</td>\n",
       "      <td> 0</td>\n",
       "      <td>...</td>\n",
       "    </tr>\n",
       "    <tr>\n",
       "      <th>vaivaishoito</th>\n",
       "      <td>  1</td>\n",
       "      <td> 0</td>\n",
       "      <td> 0</td>\n",
       "      <td> 0</td>\n",
       "      <td> 0</td>\n",
       "      <td> 0</td>\n",
       "      <td> 0</td>\n",
       "      <td> 0</td>\n",
       "      <td> 0</td>\n",
       "      <td> 0</td>\n",
       "      <td> 0</td>\n",
       "      <td> 0</td>\n",
       "      <td> 0</td>\n",
       "      <td> 0</td>\n",
       "      <td> 0</td>\n",
       "      <td> 0</td>\n",
       "      <td> 0</td>\n",
       "      <td> 0</td>\n",
       "      <td> 0</td>\n",
       "      <td> 0</td>\n",
       "      <td>...</td>\n",
       "    </tr>\n",
       "    <tr>\n",
       "      <th>vaivaien</th>\n",
       "      <td>  2</td>\n",
       "      <td> 1</td>\n",
       "      <td> 1</td>\n",
       "      <td> 0</td>\n",
       "      <td> 0</td>\n",
       "      <td> 0</td>\n",
       "      <td> 4</td>\n",
       "      <td> 1</td>\n",
       "      <td> 1</td>\n",
       "      <td> 3</td>\n",
       "      <td> 0</td>\n",
       "      <td> 0</td>\n",
       "      <td> 3</td>\n",
       "      <td> 0</td>\n",
       "      <td> 1</td>\n",
       "      <td> 2</td>\n",
       "      <td> 2</td>\n",
       "      <td> 4</td>\n",
       "      <td> 0</td>\n",
       "      <td> 2</td>\n",
       "      <td>...</td>\n",
       "    </tr>\n",
       "    <tr>\n",
       "      <th>vaivaista</th>\n",
       "      <td>  1</td>\n",
       "      <td> 0</td>\n",
       "      <td> 0</td>\n",
       "      <td> 0</td>\n",
       "      <td> 0</td>\n",
       "      <td> 2</td>\n",
       "      <td> 0</td>\n",
       "      <td> 0</td>\n",
       "      <td> 0</td>\n",
       "      <td> 0</td>\n",
       "      <td> 0</td>\n",
       "      <td> 0</td>\n",
       "      <td> 2</td>\n",
       "      <td> 0</td>\n",
       "      <td> 2</td>\n",
       "      <td> 0</td>\n",
       "      <td> 0</td>\n",
       "      <td> 1</td>\n",
       "      <td> 0</td>\n",
       "      <td> 0</td>\n",
       "      <td>...</td>\n",
       "    </tr>\n",
       "    <tr>\n",
       "      <th>vaivaishoitohallituksen</th>\n",
       "      <td>  0</td>\n",
       "      <td> 0</td>\n",
       "      <td> 0</td>\n",
       "      <td> 0</td>\n",
       "      <td> 0</td>\n",
       "      <td> 0</td>\n",
       "      <td> 0</td>\n",
       "      <td> 0</td>\n",
       "      <td> 0</td>\n",
       "      <td> 0</td>\n",
       "      <td> 0</td>\n",
       "      <td> 0</td>\n",
       "      <td> 0</td>\n",
       "      <td> 0</td>\n",
       "      <td> 0</td>\n",
       "      <td> 0</td>\n",
       "      <td> 0</td>\n",
       "      <td> 0</td>\n",
       "      <td> 0</td>\n",
       "      <td> 0</td>\n",
       "      <td>...</td>\n",
       "    </tr>\n",
       "  </tbody>\n",
       "</table>\n",
       "<p>10 rows × 83 columns</p>\n",
       "</div>"
      ],
      "text/plain": [
       "                         Column2  1822  1823  1824  1826  1829  1830  1831  \\\n",
       "Column                                                                       \n",
       "vaivaistalo                   15     0     0     0     0     0     0     0   \n",
       "vaivainenaitta                 8     0     0     0     0     0     0     0   \n",
       "vaivais                        2     1     0     0     0     0     0     0   \n",
       "vaivaishoidon                  8     0     0     0     0     0     0     0   \n",
       "vaivaistalon                   1     0     0     0     0     0     0     0   \n",
       "vaivaishoitohallitutsen        8     0     0     0     0     0     0     0   \n",
       "vaivaishoito                   1     0     0     0     0     0     0     0   \n",
       "vaivaien                       2     1     1     0     0     0     4     1   \n",
       "vaivaista                      1     0     0     0     0     2     0     0   \n",
       "vaivaishoitohallituksen        0     0     0     0     0     0     0     0   \n",
       "\n",
       "                         1832  1833  1834  1835  1836  1837  1839  1840  1841  \\\n",
       "Column                                                                          \n",
       "vaivaistalo                 0     0     0     0     0     0     0     0     0   \n",
       "vaivainenaitta              0     0     0     0     0     0     0     0     0   \n",
       "vaivais                     0     0     0     0     1     1     0     0     0   \n",
       "vaivaishoidon               0     0     0     0     1     0     0     0     0   \n",
       "vaivaistalon                0     0     0     0     0     0     0     0     0   \n",
       "vaivaishoitohallitutsen     0     0     0     0     0     0     0     0     0   \n",
       "vaivaishoito                0     0     0     0     0     0     0     0     0   \n",
       "vaivaien                    1     3     0     0     3     0     1     2     2   \n",
       "vaivaista                   0     0     0     0     2     0     2     0     0   \n",
       "vaivaishoitohallituksen     0     0     0     0     0     0     0     0     0   \n",
       "\n",
       "                         1844  1845  1846      \n",
       "Column                                         \n",
       "vaivaistalo                 0     0     0 ...  \n",
       "vaivainenaitta              0     0     0 ...  \n",
       "vaivais                     1     0     0 ...  \n",
       "vaivaishoidon               0     0     0 ...  \n",
       "vaivaistalon                0     0     0 ...  \n",
       "vaivaishoitohallitutsen     0     0     0 ...  \n",
       "vaivaishoito                0     0     0 ...  \n",
       "vaivaien                    4     0     2 ...  \n",
       "vaivaista                   1     0     0 ...  \n",
       "vaivaishoitohallituksen     0     0     0 ...  \n",
       "\n",
       "[10 rows x 83 columns]"
      ]
     },
     "metadata": {},
     "output_type": "display_data"
    },
    {
     "data": {
      "text/plain": [
       "<matplotlib.axes.AxesSubplot at 0x7ff6234fa278>"
      ]
     },
     "execution_count": 39,
     "metadata": {},
     "output_type": "execute_result"
    },
    {
     "data": {
      "image/png": "[encoded data removed]",
      "text/plain": [
       "<matplotlib.figure.Figure at 0x7ff6234fadd8>"
      ]
     },
     "metadata": {},
     "output_type": "display_data"
    }
   ],
   "source": [
    "from IPython.display import display\n",
    "sorted =lemmaFrame3.T.sum()\n",
    "sorted.sort(ascending=False)\n",
    "top10 = lemmaFrame3.T[sorted.index[:10]]\n",
    "display(top10.T)\n",
    "from pylab import rcParams\n",
    "rcParams['figure.figsize'] = 15, 10\n",
    "top10.plot()"
   ]
  }
 ],
 "metadata": {
  "kernelspec": {
   "display_name": "Python 3",
   "language": "python",
   "name": "python3"
  },
  "language_info": {
   "codemirror_mode": {
    "name": "ipython",
    "version": 3
   },
   "file_extension": ".py",
   "mimetype": "text/x-python",
   "name": "python",
   "nbconvert_exporter": "python",
   "pygments_lexer": "ipython3",
   "version": "3.4.3"
  }
 },
 "nbformat": 4,
 "nbformat_minor": 0
}
