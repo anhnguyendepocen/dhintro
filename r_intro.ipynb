{
 "cells": [
  {
   "cell_type": "code",
   "execution_count": null,
   "metadata": {
    "collapsed": false
   },
   "outputs": [],
   "source": [
    "print(\"Hello\")\n",
    "print(\"programming\")"
   ]
  },
  {
   "cell_type": "markdown",
   "metadata": {},
   "source": [
    "## Variables"
   ]
  },
  {
   "cell_type": "code",
   "execution_count": null,
   "metadata": {
    "collapsed": false
   },
   "outputs": [],
   "source": [
    "name <- \"Eetu\"\n",
    "# You can use =, but <- is more idiomatic R\n",
    "print(paste(\"Hello \", name, \".\",sep=\"\"))\n",
    "print(paste(\"Welcome to programming \",name,\".\",sep=\"\"))\n"
   ]
  },
  {
   "cell_type": "markdown",
   "metadata": {},
   "source": [
    "## Operators"
   ]
  },
  {
   "cell_type": "code",
   "execution_count": null,
   "metadata": {
    "collapsed": false
   },
   "outputs": [],
   "source": [
    "print( 1+5 )\n",
    "print( 1+5/2 )\n",
    "print( (1+5)/2 )"
   ]
  },
  {
   "cell_type": "code",
   "execution_count": null,
   "metadata": {
    "collapsed": false
   },
   "outputs": [],
   "source": [
    "print(1<5)\n",
    "print(1>5)\n",
    "print(\"a\"<\"b\")\n",
    "print(\"ab\"<\"aa\")"
   ]
  },
  {
   "cell_type": "markdown",
   "metadata": {},
   "source": [
    "## Control flow"
   ]
  },
  {
   "cell_type": "code",
   "execution_count": null,
   "metadata": {
    "collapsed": false
   },
   "outputs": [],
   "source": [
    "if (name==\"John\") {\n",
    "    print(\"Hello Johnny\")\n",
    "} else if (name==\"Bruce Wayne\") {\n",
    "    print(\"Hello Batman\")\n",
    "} else\n",
    "    print(paste(\"Hello \",name,sep=\"\"))"
   ]
  },
  {
   "cell_type": "code",
   "execution_count": null,
   "metadata": {
    "collapsed": false
   },
   "outputs": [],
   "source": [
    "i <- 1\n",
    "while (i < 4) {\n",
    "    print(paste(\"while: \",i,sep=\"\"))\n",
    "    i <- i+1\n",
    "}\n",
    "\n",
    "for (i in 1:3) \n",
    "    print(paste(\"for: \",i,sep=\"\"))"
   ]
  },
  {
   "cell_type": "markdown",
   "metadata": {},
   "source": [
    "## Variable types"
   ]
  },
  {
   "cell_type": "code",
   "execution_count": null,
   "metadata": {
    "collapsed": false
   },
   "outputs": [],
   "source": [
    "print(10+10)\n",
    "print(\"10\"+10)"
   ]
  },
  {
   "cell_type": "code",
   "execution_count": null,
   "metadata": {
    "collapsed": false
   },
   "outputs": [],
   "source": [
    "i <- 1\n",
    "print(paste(\"Type of i: \",typeof(i),sep=\"\"))\n",
    "j <- '1'\n",
    "print(paste(\"Type of j: \",typeof(j),sep=\"\"))\n",
    "print(paste(\"Is i equal to j?: \",i==j,sep=\"\"))\n",
    "print(paste(\"Is as.character(i) equal to j?: \",as.character(i)==j,sep=\"\"))\n",
    "print(paste(\"Is i equal to as.numeric(j)?: \",i==as.numeric(j),sep=\"\"))"
   ]
  },
  {
   "cell_type": "markdown",
   "metadata": {},
   "source": [
    "Here one has to note an important difference between R and python. In general, R does more automatic conversions between formats than Python, so in the above, the number 1 *is* actually equal to the string \"1\" even without explicit conversion!"
   ]
  },
  {
   "cell_type": "code",
   "execution_count": null,
   "metadata": {
    "collapsed": false
   },
   "outputs": [],
   "source": [
    "as.numeric(\"11\")\n",
    "as.numeric(\"eleven\")"
   ]
  },
  {
   "cell_type": "markdown",
   "metadata": {},
   "source": [
    "Here's also an important difference. Where Python raised an error, R just issues a warning and returns NA (a special value denoting Not Available)."
   ]
  },
  {
   "cell_type": "markdown",
   "metadata": {},
   "source": [
    "## Functions/methods"
   ]
  },
  {
   "cell_type": "code",
   "execution_count": null,
   "metadata": {
    "collapsed": false
   },
   "outputs": [],
   "source": [
    "# This is a function definition that takes in a single variable named string. It returns that string after some processing.\n",
    "modernize <- function(string) {\n",
    "    return(gsub(\"ätä\\\\b\",\"ää\",gsub(\"ata\\\\b\",\"aa\",gsub(\"g\",\"k\",gsub(\"d\",\"t\",gsub(\"b\",\"p\",gsub(\"w\",\"v\",string)))))))\n",
    "}\n",
    "\n",
    "print(modernize(\"waltawat määrät omenata laivattiin Helsingiin\"))\n",
    "print(modernize(\"waiwaisten hambaat ovat usein huonot\"))"
   ]
  },
  {
   "cell_type": "markdown",
   "metadata": {},
   "source": [
    "R doesn't really believe in object methods, so doesn't have any equivalent to the replace method of Python string object. Instead, everything is just pure functions, and you need to pass the values as parameters."
   ]
  },
  {
   "cell_type": "markdown",
   "metadata": {},
   "source": [
    "## Data structures"
   ]
  },
  {
   "cell_type": "code",
   "execution_count": null,
   "metadata": {
    "collapsed": false
   },
   "outputs": [],
   "source": [
    "# R doesn't have hash objects directly (but there is a hash package). However, pure R also does have vectors that may have named indices, so let's use that:\n",
    "replacements <- c(w = 'v',b ='p', d = 't', g = 'k', 'ätä\\\\b' = 'ää', 'ata\\\\b' = \"aa\")\n",
    "modernize2 <- function(string) {\n",
    "    # Here we're going over all the keys in the replacement dictionary and acting on them\n",
    "    for (key in names(replacements)) {\n",
    "        string <- gsub(key,replacements[key],string)\n",
    "    }\n",
    "    return(string)\n",
    "}\n",
    "\n",
    "# This is a list.\n",
    "sentences = c(\"waltawat määrät omenata laivattiin Helsingiin\", \"waiwaisten hambaat ovat usein huonot\")\n",
    "\n",
    "# Here we're calling the function once for each string in the sentences list\n",
    "for (sentence in sentences)\n",
    "    print(modernize2(sentence))\n",
    "    \n",
    "# You can also explicitly refer to a particular slot in a list or a key in a dictionary using square brackets:\n",
    "print(replacements[\"w\"])\n",
    "print(sentences[1])\n",
    "# In R, indices start at 1!"
   ]
  },
  {
   "cell_type": "code",
   "execution_count": null,
   "metadata": {
    "collapsed": false
   },
   "outputs": [],
   "source": [
    "# Note that a dictionary can only contain one value for each key\n",
    "replacements2 <- c(w = \"v\", w = \"y\")\n",
    "print(replacements2[\"w\"])\n",
    "\n",
    "# Therefore, if you need multiple values, you have to combine dictionaries with lists:\n",
    "replacements2 <- list(w = c(\"v\",\"y\"))\n",
    "print(replacements2[\"w\"])"
   ]
  },
  {
   "cell_type": "markdown",
   "metadata": {},
   "source": [
    "As an interesting albeit mostly useless note, see how in the above R returns \"v\" in the first instance, while Python returned \"y\". \n",
    "\n",
    "More usefully, note that in the above we couldn't use just simple vectors (created by `c()`, but instead had to use actual lists created by `list()`. The technical explanation here is that simple vectors are more efficient to the computer to process, but have the limitation of having to be flat, while actual lists can be more complex but are also therefore more expensive for the computer to operate upon. "
   ]
  }
 ],
 "metadata": {
  "kernelspec": {
   "display_name": "R",
   "language": "R",
   "name": "ir"
  },
  "language_info": {
   "codemirror_mode": "r",
   "file_extension": ".r",
   "mimetype": "text/x-r-source",
   "name": "R",
   "pygments_lexer": "r",
   "version": "3.2.2"
  }
 },
 "nbformat": 4,
 "nbformat_minor": 0
}
