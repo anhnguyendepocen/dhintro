{
  "cells": [
    {
      "cell_type": "markdown",
      "source": [
        "# Programming concepts cheat sheet\n",
        "\n",
        "When trying to figure out what went into a program, look at \n",
        " 1. documentation,\n",
        " 1. file names and subdirectories under which the source code has been organized,\n",
        " 1. imported libraries and their documentation,\n",
        " 1. function names and parameters, \n",
        " 1. function contents. \n",
        " \n",
        "Try to find the main function, and start delving from there."
      ],
      "metadata": {}
    },
    {
      "cell_type": "code",
      "source": [
        "# Run this cell to make the R examples work\n",
        "%load_ext rpy2.ipython"
      ],
      "outputs": [
        {
          "output_type": "stream",
          "name": "stdout",
          "text": [
            "The rpy2.ipython extension is already loaded. To reload it, use:\n",
            "  %reload_ext rpy2.ipython\n"
          ]
        }
      ],
      "execution_count": 60,
      "metadata": {
        "collapsed": false,
        "outputHidden": false,
        "inputHidden": false
      }
    },
    {
      "cell_type": "markdown",
      "source": [
        "## Libraries\n",
        "\nContain functions and data types. Used to organize code and package large functionalities into reusable units."
      ],
      "metadata": {}
    },
    {
      "cell_type": "code",
      "source": [
        "#Python\n",
        "import re # regular expressions\n",
        "import requests # web requests\n",
        "import pandas as pd # data science computation\n",
        "import numpy as np # numerical computation\n",
        "import matplotlib.pyplot as plt # plotting"
      ],
      "outputs": [],
      "execution_count": null,
      "metadata": {
        "collapsed": false,
        "outputHidden": false,
        "inputHidden": false
      }
    },
    {
      "cell_type": "code",
      "source": [
        "%%R\n",
        "library(ggplot2) # plotting\n",
        "library(reshape2) # data wrangling\n",
        "library(RColorBrewer) # colour palette creation\n",
        "library(cluster) # data clustering\n",
        "library(slam) # numerical computation\n",
        "library(tm) # text mining \n",
        "library(SnowballC) # word stemming\n",
        "library(wordcloud) # word clouds\n"
      ],
      "outputs": [
        {
          "output_type": "stream",
          "name": "stdout",
          "text": [
            "\n",
            "Error in library(slam) : there is no package called ‘slam’\n"
          ]
        }
      ],
      "execution_count": 59,
      "metadata": {
        "collapsed": false,
        "outputHidden": false,
        "inputHidden": false
      }
    },
    {
      "cell_type": "markdown",
      "source": [
        "## Functions\n",
        "\nAllow you to package code in reusable packages. Used to organize a codebase. Zero or one output, as many input parameters as you like."
      ],
      "metadata": {}
    },
    {
      "cell_type": "code",
      "source": [
        "#Python\n",
        "import re\n",
        "\n",
        "def standardize(text):\n",
        "  text = text.replace(\".\",\" \").replace(\",\",\" \").replace(\"?\",\" \").replace(\"!\",\" \").replace(\"'\",\"\").lower()\n",
        "  return re.sub(\"\\s+\",\" \", text)\n",
        "\n",
        "print(standardize(\"Where are we? I don't know!\"))\n",
        "\n",
        "def sum(values):\n",
        "  sum = 0\n",
        "  for value in values:\n",
        "    sum += value\n",
        "  return sum\n",
        "\nprint(sum([1,2,3]))"
      ],
      "outputs": [
        {
          "output_type": "stream",
          "name": "stdout",
          "text": [
            "where are we i dont know \n",
            "6\n"
          ]
        }
      ],
      "execution_count": 42,
      "metadata": {
        "collapsed": false,
        "outputHidden": false,
        "inputHidden": false
      }
    },
    {
      "cell_type": "code",
      "source": [
        "%%R\n",
        "\n",
        "standardize <- function(text) {\n",
        "  return(tolower(gsub(\"\\\\s+\",\" \",gsub(\"\\\\.\",\" \",gsub(\",\",\" \",gsub(\"\\\\?\",\" \",gsub(\"!\",\" \",gsub(\"'\",\"\",text))))))))\n",
        "}\n",
        "\n",
        "print(standardize(\"Where are we? I don't know!\"))\n",
        "\n",
        "sum <- function(values) {\n",
        "  sum <- 0\n",
        "  for (value in values) {\n",
        "    sum <- sum + value\n",
        "  }\n",
        "  return(sum)\n",
        "}\n",
        "\nprint(sum(c(1,2,3)))"
      ],
      "outputs": [
        {
          "output_type": "display_data",
          "data": {
            "text/plain": [
              "[1] \"where are we i dont know \"\n",
              "[1] 6\n"
            ]
          },
          "metadata": {}
        }
      ],
      "execution_count": 43,
      "metadata": {
        "collapsed": false,
        "outputHidden": false,
        "inputHidden": false
      }
    },
    {
      "cell_type": "markdown",
      "source": [
        "In many programming languages, methods are functions associated with data types, with a different syntax for specifying the key parameter:"
      ],
      "metadata": {}
    },
    {
      "cell_type": "code",
      "source": [
        "print(\"abab\".replace(\"a\",\"b\").replace(\"b\",\"X\"))\n",
        "print(\"abab\".replace(\"b\",\"X\").replace(\"a\",\"b\"))"
      ],
      "outputs": [
        {
          "output_type": "stream",
          "name": "stdout",
          "text": [
            "XXXX\n",
            "bXbX\n"
          ]
        }
      ],
      "execution_count": 47,
      "metadata": {
        "collapsed": false,
        "outputHidden": false,
        "inputHidden": false
      }
    },
    {
      "cell_type": "markdown",
      "source": [
        "R doesn't really believe in methods.\n",
        "\nOperators are yet another, easier syntax for core functions. In Python, they really are syntactic sugar for methods, but in R they're a separate language construct."
      ],
      "metadata": {}
    },
    {
      "cell_type": "code",
      "source": [
        "#Python\n",
        "print((5).__add__(3).__add__(7))\n",
        "print(5+3+7)\n",
        "\n",
        "values = [1,2]\n",
        "values.extend([3])\n",
        "values += [4]\n",
        "print(values)"
      ],
      "outputs": [
        {
          "output_type": "stream",
          "name": "stdout",
          "text": [
            "15\n",
            "15\n",
            "[1, 2, 3, 4]\n"
          ]
        }
      ],
      "execution_count": 44,
      "metadata": {
        "collapsed": false,
        "outputHidden": false,
        "inputHidden": false
      }
    },
    {
      "cell_type": "markdown",
      "source": [
        "## Variables\n",
        "\nAllow you to store data and refer to it using self-defined symbols in your code"
      ],
      "metadata": {}
    },
    {
      "cell_type": "code",
      "source": [
        "# Python\n",
        "name = \"Eetu\"\n",
        "age = 18\n",
        "\n",
        "if age>=18:\n",
        "  print(name + \" is an adult\")\n",
        "else:\n",
        "  print(name + \" is a child\")"
      ],
      "outputs": [],
      "execution_count": null,
      "metadata": {
        "collapsed": false,
        "outputHidden": false,
        "inputHidden": false
      }
    },
    {
      "cell_type": "code",
      "source": [
        "%%R\n",
        "name <- \"Eetu\"\n",
        "age <- 18\n",
        "\n",
        "if (age>=18) {\n",
        "  print(paste(name,\" is an adult\",sep=\"\"))\n",
        "} else {\n",
        "  print(paste(name, \" is a child\",sep=\"\"))\n",
        "}"
      ],
      "outputs": [],
      "execution_count": null,
      "metadata": {
        "collapsed": false,
        "outputHidden": false,
        "inputHidden": false
      }
    },
    {
      "cell_type": "markdown",
      "source": [
        "## if/else\n",
        "\nProgram flow control statement that allows you to choose between alternate courses of action based on data"
      ],
      "metadata": {}
    },
    {
      "cell_type": "code",
      "source": [
        "# Python\n",
        "name = \"Eetu\"\n",
        "age = 18\n",
        "\n",
        "if age<18:\n",
        "  print(name + \" is a child\")\n",
        "elif age>65:\n",
        "  print(name + \" is old\")\n",
        "elif age>100:\n",
        "  print(name + \" is ancient\")\n",
        "else:\n",
        "  print(name + \" is an adult\")\n",
        "  \n"
      ],
      "outputs": [
        {
          "output_type": "stream",
          "name": "stdout",
          "text": [
            "Eetu is an adult\n"
          ]
        }
      ],
      "execution_count": 2,
      "metadata": {
        "collapsed": false,
        "outputHidden": false,
        "inputHidden": false
      }
    },
    {
      "cell_type": "code",
      "source": [
        "%%R\n",
        "\n",
        "name <- \"Eetu\"\n",
        "age <- 18\n",
        "\n",
        "if (age<18)\n",
        "  print(paste(name, \"is a child\"))\n",
        "else if (age>65)\n",
        "  print(paste(name, \"is old\"))\n",
        "else if (age>100)\n",
        "  print(pate(name, \"is ancient\"))\n",
        "else\n",
        "  print(paste(name,\"is an adult\"))"
      ],
      "outputs": [
        {
          "output_type": "display_data",
          "data": {
            "text/plain": [
              "[1] \"Eetu is an adult\"\n"
            ]
          },
          "metadata": {}
        }
      ],
      "execution_count": 45,
      "metadata": {
        "collapsed": false,
        "outputHidden": false,
        "inputHidden": false
      }
    },
    {
      "cell_type": "markdown",
      "source": [
        "## While\n",
        "\nGeneral flow control structure for doing something as long as a condition holds"
      ],
      "metadata": {}
    },
    {
      "cell_type": "code",
      "source": [
        "#Python\n",
        "ages = [ 15, 17, 19, 20, 55, 90 ]\n",
        "\n",
        "i = 0\n",
        "while (ages[i]<18): i+=1\n",
        "\n",
        "print(\"First age over 18 (age nr. \"+str(i+1)+\"): \"+str(ages[i]))\n",
        "\n",
        "i = 0\n",
        "agesum = 0\n",
        "while i<len(ages):\n",
        "  agesum += ages[i]\n",
        "  i+=1\n",
        "print(\"Average age: \"+str(agesum/len(ages)))"
      ],
      "outputs": [
        {
          "output_type": "stream",
          "name": "stdout",
          "text": [
            "First age over 18 (age nr. 3): 19\n",
            "Average age: 36.0\n"
          ]
        }
      ],
      "execution_count": 84,
      "metadata": {
        "collapsed": false,
        "outputHidden": false,
        "inputHidden": false
      }
    },
    {
      "cell_type": "code",
      "source": [],
      "outputs": [],
      "execution_count": null,
      "metadata": {
        "collapsed": false,
        "outputHidden": false,
        "inputHidden": false
      }
    },
    {
      "cell_type": "markdown",
      "source": [
        "## For\n",
        "\nSpecific structure available in most languages for repeatedly doing something to a set of values"
      ],
      "metadata": {}
    },
    {
      "cell_type": "code",
      "source": [
        "#Python\n",
        "ages = [ 15, 17, 19, 20, 55, 90 ]\n",
        "\n",
        "agesum = 0\n",
        "for age in ages: agesum += age\n",
        "\nprint(\"Average age: \"+str(agesum/len(ages)))"
      ],
      "outputs": [
        {
          "output_type": "stream",
          "name": "stdout",
          "text": [
            "Average age: 36.0\n"
          ]
        }
      ],
      "execution_count": 87,
      "metadata": {
        "collapsed": false,
        "outputHidden": false,
        "inputHidden": false
      }
    },
    {
      "cell_type": "code",
      "source": [],
      "outputs": [],
      "execution_count": null,
      "metadata": {
        "collapsed": false,
        "outputHidden": false,
        "inputHidden": false
      }
    },
    {
      "cell_type": "markdown",
      "source": [
        "## Lists/sequences/arrays\n",
        "\nLists are data structures for holding multiple values."
      ],
      "metadata": {}
    },
    {
      "cell_type": "code",
      "source": [
        "sentences = [ \"Where are we? I don't know!\", \"This, programming... is... terrifying!\" ]\n",
        "\n",
        "# Here we're calling the function once for each string in the sentences list\n",
        "for sentence in sentences:\n",
        "    print(sentence)\n",
        "    \n",
        "# You can also explicitly refer to a particular slot in a list using square brackets:\n",
        "print(sentences[0])\n",
        "# In the above, note that the first entry in the list is at index 0, not 1. That's a conventional relic that permeates most programming languages, and comes originally from the way computers handle memory.\n",
        "    "
      ],
      "outputs": [
        {
          "output_type": "stream",
          "name": "stdout",
          "text": [
            "Where are we? I don't know!\n",
            "This, programming... is... terrifying!\n",
            "Where are we? I don't know!\n"
          ]
        }
      ],
      "execution_count": 108,
      "metadata": {
        "collapsed": false,
        "outputHidden": false,
        "inputHidden": false
      }
    },
    {
      "cell_type": "markdown",
      "source": [
        "## Dictionaries/maps/hashes\n",
        "\nDictionaries are useful data structures for mapping values to other values, or for creating simple structured data"
      ],
      "metadata": {}
    },
    {
      "cell_type": "code",
      "source": [
        "replacements = {\n",
        "    \".\": \" \",\n",
        "    \",\": \" \",\n",
        "    \"!\": \" \",\n",
        "    \"?\": \" \",\n",
        "    \"'\": \"\",\n",
        "    \"&\": \"and\" \n",
        "}\n",
        "\n",
        "# Here we're going over all the keys in the replacement dictionary and acting on them\n",
        "text = \"Where are we? & I don't know!\"\n",
        "for key in replacements:\n",
        "    text = text.replace(key, replacements[key])\n",
        "print(text)\n",
        "\n",
        "# You can also explicitly refer to a particular slot in a list or a key in a dictionary using square brackets:\n",
        "print(replacements[\"&\"])"
      ],
      "outputs": [
        {
          "output_type": "stream",
          "name": "stdout",
          "text": [
            "Where are we  and I dont know \n",
            "and\n"
          ]
        }
      ],
      "execution_count": 109,
      "metadata": {
        "collapsed": false,
        "outputHidden": false,
        "inputHidden": false
      }
    },
    {
      "cell_type": "code",
      "source": [
        "# Note that a dictionary can only contain one value for each key\n",
        "replacements = {\n",
        "    \".\" : \"?\",\n",
        "    \".\" : \"!\"\n",
        "}\n",
        "print(replacements[\".\"])\n",
        "\n",
        "# Therefore, if you need multiple values, you have to combine dictionaries with lists:\n",
        "replacements = {\n",
        "    \".\" : [\"?\",\"!\"]\n",
        "}\n",
        "\n",
        "print(replacements[\".\"])\n"
      ],
      "outputs": [
        {
          "output_type": "stream",
          "name": "stdout",
          "text": [
            "!\n",
            "['?', '!']\n"
          ]
        }
      ],
      "execution_count": 106,
      "metadata": {
        "collapsed": false,
        "outputHidden": false,
        "inputHidden": false
      }
    },
    {
      "cell_type": "code",
      "source": [
        "# Here's some structured data stored in a combination of arrays and dictionaries:\n",
        "people = [\n",
        "    { \n",
        "        \"name\": \"Eetu\",\n",
        "        \"age\": 18,\n",
        "        \"jobs\": [ \"Researcher\", \"Lecturer\"]\n",
        "    },\n",
        "    {\n",
        "        \"name\": \"Bruce Wayne\",\n",
        "        \"age\": 65,\n",
        "        \"jobs\": [ \"Batman\", \"Philanthropist\"]\n",
        "    }\n",
        "]\n",
        "\n",
        "for person in people: \n",
        "    if person[\"name\"] == \"Bruce Wayne\": \n",
        "        print(person[\"jobs\"])"
      ],
      "outputs": [
        {
          "output_type": "stream",
          "name": "stdout",
          "text": [
            "['Batman', 'Philanthropist']\n"
          ]
        }
      ],
      "execution_count": 105,
      "metadata": {
        "collapsed": false,
        "outputHidden": false,
        "inputHidden": false
      }
    }
  ],
  "metadata": {
    "kernelspec": {
      "name": "python3",
      "language": "python",
      "display_name": "Python 3"
    },
    "kernel_info": {
      "name": "python3"
    },
    "language_info": {
      "name": "python",
      "version": "3.6.2",
      "mimetype": "text/x-python",
      "codemirror_mode": {
        "name": "ipython",
        "version": 3
      },
      "pygments_lexer": "ipython3",
      "nbconvert_exporter": "python",
      "file_extension": ".py"
    },
    "nteract": {
      "version": "0.2.0"
    }
  },
  "nbformat": 4,
  "nbformat_minor": 4
}