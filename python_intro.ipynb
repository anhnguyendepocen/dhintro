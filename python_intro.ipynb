{
 "cells": [
  {
   "cell_type": "markdown",
   "metadata": {},
   "source": [
    "# Absolute fundamentals of programming for humanists\n",
    "Programming is the act of giving a series of instructions to the computer. Upon running the program, the computer then follows these instructions in sequence. Typically (but not always), each line in a program is a single instruction. \n",
    "\n",
    "The box below contains two instructions. Run them by selecting the box (by clicking on it) and pressing ctrl-enter (or selecting the play button from the menu above). "
   ]
  },
  {
   "cell_type": "code",
   "execution_count": null,
   "metadata": {
    "collapsed": false
   },
   "outputs": [],
   "source": [
    "print(\"Hello\")\n",
    "print(\"programming\")"
   ]
  },
  {
   "cell_type": "markdown",
   "metadata": {},
   "source": [
    "Notice how two lines are printed. You can freely change the text inside the quotation marks to change what is printed. You can even add new print commands on additional lines.\n",
    "\n",
    "## Variables\n",
    "\n",
    "Often in programs, you need a particular value in multiple places. For this, named variables can be defined that act as stores for those values. You put stuff in variables by =, and retrieve it just by giving the variable name.\n"
   ]
  },
  {
   "cell_type": "code",
   "execution_count": null,
   "metadata": {
    "collapsed": false
   },
   "outputs": [],
   "source": [
    "name = \"Eetu\"\n",
    "print(\"Hello \" + name + \".\")\n",
    "print(\"Welcome to programming \"+name+\".\")"
   ]
  },
  {
   "cell_type": "markdown",
   "metadata": {},
   "source": [
    "## Operators\n",
    "One way to act with values is by joining them with operators. The `+` in the above is a concatenation operator, joining together multiple strings (or the contents of string variables). A lot of the basic operators come from arithmetic and are mainly defined for numeric values, e.g. `+, -, /, *`. These also follow the precendence rules from basic math. Try them:"
   ]
  },
  {
   "cell_type": "code",
   "execution_count": null,
   "metadata": {
    "collapsed": false
   },
   "outputs": [],
   "source": [
    "print( 1+5 )\n",
    "print( 1+5/2 )\n",
    "print( (1+5)/2 )"
   ]
  },
  {
   "cell_type": "markdown",
   "metadata": {},
   "source": [
    "A second common class of operators are comparison operators, e.g.: `==, !=, >, <, >=, <=`. "
   ]
  },
  {
   "cell_type": "code",
   "execution_count": null,
   "metadata": {
    "collapsed": false
   },
   "outputs": [],
   "source": [
    "print(1<5)\n",
    "print(1>5)\n",
    "print(\"a\"<\"b\")\n",
    "print(\"ab\"<\"aa\")\n"
   ]
  },
  {
   "cell_type": "markdown",
   "metadata": {},
   "source": [
    "## Control flow\n",
    "\n",
    "A computer program isn't really just a sequence of commands. It can also contain control flow statements that affect how the computer proceeds through the program. These are where the above mentioned comparison operators most often are used. Try changing the name variable by changing the assignment in the cell above (and executing that cell), and see what happens when you after that execute the cell below."
   ]
  },
  {
   "cell_type": "code",
   "execution_count": null,
   "metadata": {
    "collapsed": false
   },
   "outputs": [],
   "source": [
    "if name==\"John\":\n",
    "    print(\"Hello Johnny\")\n",
    "elif name==\"Bruce Wayne\":\n",
    "    print(\"Hello Batman\")\n",
    "else:\n",
    "    print(\"Hello \"+name)"
   ]
  },
  {
   "cell_type": "markdown",
   "metadata": {},
   "source": [
    "That control flow construct was the `if` construct. Other important control flow constructs are `while` and its specialization `for`. They're used for doing stuff repeatedly (for example, to do something to all words in a sentence, etc.)"
   ]
  },
  {
   "cell_type": "code",
   "execution_count": null,
   "metadata": {
    "collapsed": false
   },
   "outputs": [],
   "source": [
    "i = 1\n",
    "while i < 4:\n",
    "    print(\"while: \"+str(i))\n",
    "    i=i+1\n",
    "# note that in the above, both the print and the adding of 1 to i are included inside the while. That's because of the indentation. If the i=i+1 wasn't indented, it would actually result in an endless loop, as i would always be 1 and thus less than 4.\n",
    "\n",
    "for i in range(1,4):\n",
    "    print(\"for: \"+str(i))\n"
   ]
  },
  {
   "cell_type": "markdown",
   "metadata": {},
   "source": [
    "## Variable types\n",
    "\n",
    "In the above, we also coincidentally introduced the fact that for computers, `\"1\"` and `1` are two completely separate things. One is a string, while the other is a number, and the two don't mix. For example, the second statement in the following code just doesn't work. Try it."
   ]
  },
  {
   "cell_type": "code",
   "execution_count": null,
   "metadata": {
    "collapsed": false
   },
   "outputs": [],
   "source": [
    "print(10+10)\n",
    "print(\"10\"+10)"
   ]
  },
  {
   "cell_type": "markdown",
   "metadata": {},
   "source": [
    "Fortunately, values of different types can be converted to each other, as in the following:"
   ]
  },
  {
   "cell_type": "code",
   "execution_count": null,
   "metadata": {
    "collapsed": false,
    "scrolled": true
   },
   "outputs": [],
   "source": [
    "i = 1\n",
    "print(\"Type of i: \"+str(type(i)))\n",
    "j = '1'\n",
    "print(\"Type of j: \"+str(type(j)))\n",
    "print(\"Is i equal to j?: \"+str(i==j))\n",
    "print(\"Is str(i) equal to j?: \"+str(str(i)==j))\n",
    "print(\"Is i equal to int(j)?: \"+str(i==int(j)))"
   ]
  },
  {
   "cell_type": "markdown",
   "metadata": {},
   "source": [
    "Just don't try converting anything that's not a number to one:"
   ]
  },
  {
   "cell_type": "code",
   "execution_count": null,
   "metadata": {
    "collapsed": false,
    "scrolled": false
   },
   "outputs": [],
   "source": [
    "# The computer understands how to convert the string 11 into a number (this by the way is a comment, it is not processed by the computer)\n",
    "int(\"11\")\n",
    "# Yet the string eleven isn't a number to the computer, even though it is to us.\n",
    "int(\"eleven\")"
   ]
  },
  {
   "cell_type": "markdown",
   "metadata": {},
   "source": [
    "## Functions/methods\n",
    "\n",
    "Often, one wants to also run a piece of code from multiple parts of the program. For this, one defines functions, which work for code similarly to how variables work for storing and recalling values. Functions take in zero or more parameters (given in parentheses), and can optionally return back a single value."
   ]
  },
  {
   "cell_type": "code",
   "execution_count": null,
   "metadata": {
    "collapsed": false
   },
   "outputs": [],
   "source": [
    "import re\n",
    "\n",
    "# This is a function definition that takes in a single variable named string. It returns that string after some processing.\n",
    "def modernize(string):\n",
    "    return re.sub(\"ätä\\\\b\",\"ää\",re.sub(\"ata\\\\b\",\"aa\",string.replace(\"w\",\"v\").replace(\"b\",\"p\").replace(\"d\",\"t\").replace(\"g\",\"k\")))\n",
    "\n",
    "print(modernize(\"waltawat määrät omenata laivattiin Helsingiin\"))\n",
    "print(modernize(\"waiwaisten hambaat ovat usein huonot\"))"
   ]
  },
  {
   "cell_type": "markdown",
   "metadata": {},
   "source": [
    "Very often, functions are packaged inside libraries, which you have to import in order to use. For example, in the above, we import the `re` [regular expression](http://www.regular-expressions.info/)  function  from the [library](https://docs.python.org/3/library/re.html) of the same name.\n",
    "\n",
    "Other functions we've also already seen are `str`,`int`,`type` and also `print`!\n",
    "\n",
    "Some functions are also associated with particular data types (we call these methods). For example, in the above, we refer to the `replace`-method associated with all variables of type `string`. These refer implicitly to the value of the variable. See:"
   ]
  },
  {
   "cell_type": "code",
   "execution_count": null,
   "metadata": {
    "collapsed": false
   },
   "outputs": [],
   "source": [
    "# Don't worry about the content of this function, just note its parameters (and the fact that again what is contained in the function is defined by indentation)\n",
    "def replace(string,replaceThis,withThis):\n",
    "    modifiableString = list(string)\n",
    "    for i in range(0,len(modifiableString)):\n",
    "        if (modifiableString[i]==replaceThis): \n",
    "            modifiableString[i]=withThis\n",
    "    return \"\".join(modifiableString)\n",
    "\n",
    "string = \"waltawa\"\n",
    "print(\"method of string object: \"+string+\"->\"+string.replace(\"w\",\"v\"))\n",
    "print(\"separately defined replace-function: \"+string+\"->\"+replace(string,\"w\",\"v\"))\n",
    "\n",
    "# This really doesn't belong in this intro, but I can't resist mentioning that in the end also the operators we've been using are actually methods of the objects. They just have convenience syntax added to them.\n",
    "print((5).__add__(3))\n",
    "print(5+3)\n",
    "print((\"a\").__add__(\"b\"))\n",
    "print(\"a\"+\"b\")"
   ]
  },
  {
   "cell_type": "markdown",
   "metadata": {},
   "source": [
    "Often, libraries contain both new functions as well as new data types (classes) with attendant methods. To use the library, one has to read up on both."
   ]
  },
  {
   "cell_type": "markdown",
   "metadata": {},
   "source": [
    "## Data structures\n",
    "\n",
    "Most programming languages have two very useful core data types you should know. These are lists (or sequences or arrays) for holding multiple items, and [dictionaries](https://docs.python.org/3/tutorial/datastructures.html#dictionaries) (or hashes or maps) for creating associations between items. "
   ]
  },
  {
   "cell_type": "code",
   "execution_count": null,
   "metadata": {
    "collapsed": false,
    "scrolled": true
   },
   "outputs": [],
   "source": [
    "# Here, we're defining a replacement dictionary. The magic syntax uses {} and :\n",
    "replacements = {\n",
    "    \"w\": \"v\",\n",
    "    \"b\": \"p\",\n",
    "    \"d\": \"t\",\n",
    "    \"g\": \"k\",\n",
    "    \"ätä\\\\b\": \"ää\", \n",
    "    \"ata\\\\b\": \"aa\"\n",
    "}\n",
    "\n",
    "def modernize2(string):\n",
    "    # Here we're going over all the keys in the replacement dictionary and acting on them\n",
    "    for key in replacements:\n",
    "        string = re.sub(key,replacements[key],string)\n",
    "    return string\n",
    "\n",
    "# This is a list. Here the magic syntax is [] and ,\n",
    "sentences = [ \"waltawat määrät omenata laivattiin Helsingiin\", \"waiwaisten hambaat ovat usein huonot\" ]\n",
    "\n",
    "# Here we're calling the function once for each string in the sentences list\n",
    "for sentence in sentences:\n",
    "    print(modernize2(sentence))\n",
    "    \n",
    "# You can also explicitly refer to a particular slot in a list or a key in a dictionary using square brackets:\n",
    "print(replacements[\"w\"])\n",
    "print(sentences[0])\n",
    "# In the above, note that the first entry in the list is at index 0, not 1. That's a conventional relic that permeates most programming languages, and comes originally from the way computers handle memory."
   ]
  },
  {
   "cell_type": "code",
   "execution_count": null,
   "metadata": {
    "collapsed": false
   },
   "outputs": [],
   "source": [
    "# Note that a dictionary can only contain one value for each key\n",
    "replacements2 = {\n",
    "    \"w\" : \"v\",\n",
    "    \"w\" : \"y\"\n",
    "}\n",
    "print(replacements2[\"w\"])\n",
    "\n",
    "# Therefore, if you need multiple values, you have to combine dictionaries with lists:\n",
    "replacements2 = {\n",
    "    \"w\" : [\"v\",\"y\"]\n",
    "}\n",
    "\n",
    "print(replacements2[\"w\"])"
   ]
  },
  {
   "cell_type": "markdown",
   "metadata": {},
   "source": [
    "That's all I think you absolutely *need* to know in order to start reading and learning from examples. \n",
    "\n",
    "I must note however that there is a significant part of programming that didn't get covered at all. That deals with defining [classes](https://docs.python.org/3/tutorial/classes.html), which are the way libraries are able to define new formal data types and structures, with attendant methods. The reason I didn't include classes in this is that while they're essential to developing libraries, knowing how they're defined isn't in any way essential to using them."
   ]
  }
 ],
 "metadata": {
  "kernelspec": {
   "display_name": "Python 3",
   "language": "python",
   "name": "python3"
  },
  "language_info": {
   "codemirror_mode": {
    "name": "ipython",
    "version": 3
   },
   "file_extension": ".py",
   "mimetype": "text/x-python",
   "name": "python",
   "nbconvert_exporter": "python",
   "pygments_lexer": "ipython3",
   "version": "3.4.3"
  }
 },
 "nbformat": 4,
 "nbformat_minor": 0
}
