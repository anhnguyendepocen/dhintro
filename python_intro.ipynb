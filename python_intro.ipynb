{
  "cells": [
    {
      "cell_type": "markdown",
      "source": [
        "# Fundamental concepts of programming for humanists\n",
        "\n",
        "## Program flow\n",
        "Programming is the act of giving a series of instructions to the computer. Upon running the program, the computer then follows these instructions in sequence. Typically (but not always), each line in a program is a single instruction. \n",
        "\nThe box below contains two instructions. Run them by selecting the box (by clicking on it) and pressing ctrl-enter (or selecting the play button from the menu above). "
      ],
      "metadata": {}
    },
    {
      "cell_type": "code",
      "source": [
        "print(\"Hello\")\n",
        "print(\"programming\")"
      ],
      "outputs": [],
      "execution_count": 1,
      "metadata": {
        "collapsed": false
      }
    },
    {
      "cell_type": "markdown",
      "source": [
        "Notice how two lines are printed. You can freely change the text inside the quotation marks to change what is printed. You can even add new print commands on additional lines. Try it!\n",
        "\n",
        "## Variables\n",
        "\nOften in programs, you need a particular value in multiple places. For this, named variables can be defined that act as stores for those values. In Python, you put stuff in variables by `=`, and retrieve it just by giving the variable name."
      ],
      "metadata": {}
    },
    {
      "cell_type": "code",
      "source": [
        "name = \"Eetu\"\n",
        "print(\"Hello \" + name + \".\")\n",
        "print(\"Welcome to programming \"+name+\".\")"
      ],
      "outputs": [],
      "execution_count": 2,
      "metadata": {
        "collapsed": false
      }
    },
    {
      "cell_type": "markdown",
      "source": [
        "Variables can store much more interesting things than mere strings, too, but we'll get to that soon."
      ],
      "metadata": {}
    },
    {
      "cell_type": "markdown",
      "source": [
        "## Operators\n",
        "One way to act with values is by joining them with operators. The `+` in the above is a concatenation operator, joining together multiple strings (or the contents of string variables). A lot of the basic operators come from arithmetic and are mainly defined for numeric values, e.g. `+, -, /, *`. These also follow the precendence rules from basic math. Try them:"
      ],
      "metadata": {}
    },
    {
      "cell_type": "code",
      "source": [
        "print( 1+5 )\n",
        "print( 1+5/2 )\n",
        "print( (1+5)/2 )"
      ],
      "outputs": [],
      "execution_count": 3,
      "metadata": {
        "collapsed": false
      }
    },
    {
      "cell_type": "markdown",
      "source": [
        "A second common class of operators are comparison operators, e.g.: `==, !=, >, <, >=, <=`. "
      ],
      "metadata": {}
    },
    {
      "cell_type": "code",
      "source": [
        "print(1<5)\n",
        "print(1>5)\n",
        "print(\"a\"<\"b\")\n",
        "print(\"ab\"<\"aa\")\n"
      ],
      "outputs": [],
      "execution_count": 4,
      "metadata": {
        "collapsed": false
      }
    },
    {
      "cell_type": "markdown",
      "source": [
        "Notice how the above comparisons yielded truth values? Those are useful for:\n",
        "\n",
        "## Control flow\n",
        "\nA computer program isn't really just a sequence of commands. It can also contain control flow statements that affect how the computer proceeds through the program. These are where the above mentioned comparison operators most often are used. Try changing the name variable by changing the assignment in the cell concerning variables above (and executing that cell), and see what happens when you after that execute the cell below."
      ],
      "metadata": {}
    },
    {
      "cell_type": "code",
      "source": [
        "if name==\"John\":\n",
        "    print(\"Hello Johnny\")\n",
        "elif name==\"Bruce Wayne\":\n",
        "    print(\"Hello Batman\")\n",
        "else:\n",
        "    print(\"Hello \"+name)"
      ],
      "outputs": [],
      "execution_count": 10,
      "metadata": {
        "collapsed": false
      }
    },
    {
      "cell_type": "markdown",
      "source": [
        "That control flow construct was the `if` construct. Other important control flow constructs are `while` and its specialization `for`. They're used for doing stuff repeatedly (for example, to do something to all words in a sentence, etc.)"
      ],
      "metadata": {}
    },
    {
      "cell_type": "code",
      "source": [
        "i = 1\n",
        "while i < 4:\n",
        "    print(\"while: \"+str(i))\n",
        "    i=i+1\n",
        "# What the above does is: set the variable i to 1. Then, as long as i remains under 4, print \"while: \" and the number, then set i to i + 1. \n",
        "# Note that both the print and the adding of 1 to i are included inside the while. That's because of the indentation. If the i=i+1 wasn't indented, it would actually result in an endless loop, as i would always be 1 and thus less than 4. You're welcome to try it, but be warned that it will probably jam your browser with output.\n",
        "# (these by the way are comments, which are meant for humans reading the code, and not processed by the computer)\n",
        "\n",
        "# Below, the same repetition is done with the specialized for construct (repeating something for all values in a collection is such a frequent operation, it makes sense that most languages have a specialized construct for it)\n",
        "for i in range(1,4):\n",
        "    print(\"for: \"+str(i))\n"
      ],
      "outputs": [],
      "execution_count": 16,
      "metadata": {
        "collapsed": false
      }
    },
    {
      "cell_type": "markdown",
      "source": [
        "## Variable types\n",
        "\nIn the above, we also coincidentally introduced the fact that for computers, `\"1\"` and `1` are two completely separate things. One is a string, while the other is a number, and the two don't mix. For example, the second statement in the following code just doesn't work. Try it."
      ],
      "metadata": {}
    },
    {
      "cell_type": "code",
      "source": [
        "print(10+10)\n",
        "print(\"10\"+10)"
      ],
      "outputs": [],
      "execution_count": 17,
      "metadata": {
        "collapsed": false
      }
    },
    {
      "cell_type": "markdown",
      "source": [
        "Fortunately, values of different types can be converted to each other, as in the following:"
      ],
      "metadata": {}
    },
    {
      "cell_type": "code",
      "source": [
        "i = 1\n",
        "print(\"Type of i: \"+str(type(i)))\n",
        "j = '1'\n",
        "print(\"Type of j: \"+str(type(j)))\n",
        "print(\"Is i equal to j?: \"+str(i==j))\n",
        "print(\"Is str(i) equal to j?: \"+str(str(i)==j))\n",
        "print(\"Is i equal to int(j)?: \"+str(i==int(j)))"
      ],
      "outputs": [],
      "execution_count": 18,
      "metadata": {
        "collapsed": false,
        "scrolled": true
      }
    },
    {
      "cell_type": "markdown",
      "source": [
        "Just don't try converting anything that's not a number to one:"
      ],
      "metadata": {}
    },
    {
      "cell_type": "code",
      "source": [
        "# The computer understands how to convert the string 11 into a number\n",
        "int(\"11\")\n",
        "# Yet the string eleven isn't a number to the computer, even though it is to us.\n",
        "int(\"eleven\")"
      ],
      "outputs": [],
      "execution_count": 20,
      "metadata": {
        "collapsed": false,
        "scrolled": false
      }
    },
    {
      "cell_type": "markdown",
      "source": [
        "## Functions/methods\n",
        "\nOften, one wants to also run a piece of code from multiple parts of the program. For this, one defines functions, which work for code similarly to how variables work for storing and recalling values. Functions take in zero or more parameters (given in parentheses), and can optionally return back a single value."
      ],
      "metadata": {}
    },
    {
      "cell_type": "code",
      "source": [
        "import re\n",
        "\n",
        "# This is a function definition that takes in a single variable named string. It returns that string after some processing.\n",
        "def modernize(string):\n",
        "    return re.sub(\"ätä\\\\b\",\"ää\",re.sub(\"ata\\\\b\",\"aa\",string.replace(\"w\",\"v\").replace(\"b\",\"p\").replace(\"d\",\"t\").replace(\"g\",\"k\")))\n",
        "\n",
        "print(modernize(\"waltawat määrät omenata laivattiin Helsingiin\"))\n",
        "print(modernize(\"waiwaisten hambaat ovat usein huonot\"))"
      ],
      "outputs": [],
      "execution_count": 21,
      "metadata": {
        "collapsed": false
      }
    },
    {
      "cell_type": "markdown",
      "source": [
        "Very often, functions are packaged inside libraries, which you have to import in order to use. For example, in the above, we import the `re` [regular expression](http://www.regular-expressions.info/)  function  from the [library](https://docs.python.org/3/library/re.html) of the same name.\n",
        "\n",
        "Other functions we've also already seen are `str, int, type` and also `print`!\n",
        "\nSome functions are also associated with particular data types (we call these methods). For example, in the above, we refer to the `replace`-method associated with all variables of type `string`. These refer implicitly to the value of the variable. See:"
      ],
      "metadata": {}
    },
    {
      "cell_type": "code",
      "source": [
        "# Don't worry about the content of this function, just note its parameters (and the fact that again what is contained in the function is defined by indentation)\n",
        "def replace(string,replaceThis,withThis):\n",
        "    modifiableString = list(string)\n",
        "    for i in range(0,len(modifiableString)):\n",
        "        if (modifiableString[i]==replaceThis): \n",
        "            modifiableString[i]=withThis\n",
        "    return \"\".join(modifiableString)\n",
        "\n",
        "string = \"waltawa\"\n",
        "print(\"method of string object: \"+string+\"->\"+string.replace(\"w\",\"v\"))\n",
        "print(\"separately defined replace-function: \"+string+\"->\"+replace(string,\"w\",\"v\"))\n",
        "\n",
        "# This really doesn't belong in this intro, but I can't resist mentioning that in the end also the operators we've been using are actually methods of the objects. They just have convenience syntax added to them.\n",
        "print((5).__add__(3))\n",
        "print(5+3)\n",
        "print((\"a\").__add__(\"b\"))\n",
        "print(\"a\"+\"b\")"
      ],
      "outputs": [],
      "execution_count": 22,
      "metadata": {
        "collapsed": false
      }
    },
    {
      "cell_type": "markdown",
      "source": [
        "Often, libraries contain both new functions as well as new data types (classes) with attendant methods. To use the library, one has to read up on both."
      ],
      "metadata": {}
    },
    {
      "cell_type": "markdown",
      "source": [
        "## Data structures\n",
        "\n",
        "As I said earlier, variables can hold much more complex data than just simple strings or numbers. They can in fact hold any data structure defined by the programming language or a libary. \n",
        "\nMost programming languages have two very useful core data types you should know. These are lists (or sequences or arrays) for holding multiple items, and [dictionaries](https://docs.python.org/3/tutorial/datastructures.html#dictionaries) (or hashes or maps) for creating associations between items. "
      ],
      "metadata": {}
    },
    {
      "cell_type": "code",
      "source": [
        "# Here, we're defining a replacement dictionary. The magic syntax uses {} and :\n",
        "replacements = {\n",
        "    \"w\": \"v\",\n",
        "    \"b\": \"p\",\n",
        "    \"d\": \"t\",\n",
        "    \"g\": \"k\",\n",
        "    \"ätä\\\\b\": \"ää\", \n",
        "    \"ata\\\\b\": \"aa\"\n",
        "}\n",
        "\n",
        "def modernize2(string):\n",
        "    # Here we're going over all the keys in the replacement dictionary and acting on them\n",
        "    for key in replacements:\n",
        "        string = re.sub(key,replacements[key],string)\n",
        "    return string\n",
        "\n",
        "# This is a list. Here the magic syntax is [] and ,\n",
        "sentences = [ \"waltawat määrät omenata laivattiin Helsingiin\", \"waiwaisten hambaat ovat usein huonot\" ]\n",
        "\n",
        "# Here we're calling the function once for each string in the sentences list\n",
        "for sentence in sentences:\n",
        "    print(modernize2(sentence))\n",
        "    \n",
        "# You can also explicitly refer to a particular slot in a list or a key in a dictionary using square brackets:\n",
        "print(replacements[\"w\"])\n",
        "print(sentences[0])\n",
        "# In the above, note that the first entry in the list is at index 0, not 1. That's a conventional relic that permeates most programming languages, and comes originally from the way computers handle memory."
      ],
      "outputs": [],
      "execution_count": 23,
      "metadata": {
        "collapsed": false,
        "scrolled": true
      }
    },
    {
      "cell_type": "code",
      "source": [
        "# Note that a dictionary can only contain one value for each key\n",
        "replacements2 = {\n",
        "    \"w\" : \"v\",\n",
        "    \"w\" : \"y\"\n",
        "}\n",
        "print(replacements2[\"w\"])\n",
        "\n",
        "# Therefore, if you need multiple values, you have to combine dictionaries with lists:\n",
        "replacements2 = {\n",
        "    \"w\" : [\"v\",\"y\"]\n",
        "}\n",
        "\nprint(replacements2[\"w\"])"
      ],
      "outputs": [],
      "execution_count": 24,
      "metadata": {
        "collapsed": false
      }
    },
    {
      "cell_type": "markdown",
      "source": [
        "## Conclusion\n",
        "\n",
        "That's all I think you absolutely *need* to know in order to start reading and learning from examples. Good places to start are for example [Python Programming for the Humanities](http://fbkarsdorp.github.io/python-course/) and [The Programming Historian](http://programminghistorian.org/lessons/)\n",
        "\nI must note however that there is a significant part of modern programming that didn't get covered at all. That deals with defining [classes](https://docs.python.org/3/tutorial/classes.html), which are the way libraries are able to define new formal data types and structures, with attendant methods. The reason I didn't include classes in this is that while they're essential to developing libraries, knowing how they're defined isn't in any way essential to using them."
      ],
      "metadata": {}
    }
  ],
  "metadata": {
    "kernelspec": {
      "name": "python3",
      "language": "python",
      "display_name": "Python 3"
    },
    "language_info": {
      "name": "python",
      "version": "3.6.2",
      "mimetype": "text/x-python",
      "codemirror_mode": {
        "name": "ipython",
        "version": 3
      },
      "pygments_lexer": "ipython3",
      "nbconvert_exporter": "python",
      "file_extension": ".py"
    },
    "kernel_info": {
      "name": "python3"
    },
    "nteract": {
      "version": "0.2.0"
    }
  },
  "nbformat": 4,
  "nbformat_minor": 0
}